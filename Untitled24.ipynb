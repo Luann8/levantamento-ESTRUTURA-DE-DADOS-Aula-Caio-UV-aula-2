{
  "nbformat": 4,
  "nbformat_minor": 0,
  "metadata": {
    "colab": {
      "provenance": []
    },
    "kernelspec": {
      "name": "python3",
      "display_name": "Python 3"
    },
    "language_info": {
      "name": "python"
    }
  },
  "cells": [
    {
      "cell_type": "code",
      "execution_count": null,
      "metadata": {
        "id": "Z6UOBLtLYYzJ"
      },
      "outputs": [],
      "source": [
        "num1 = int(input(\"Digite o primeiro número: \"))\n",
        "num2 = int(input(\"Digite o segundo número: \"))\n",
        "\n",
        "soma = num1 + num2\n",
        "subtracao = num1 - num2\n",
        "multiplicacao = num1 * num2\n",
        "divisao = num1 / num2\n",
        "potenciacao = num1 ** num2\n",
        "\n",
        "print(\"A soma é:\", soma)\n",
        "print(\"A subtração é:\", subtracao)\n",
        "print(\"A multiplicação é:\", multiplicacao)\n",
        "print(\"A divisão é:\", divisao)\n",
        "print(\"A potenciação é:\", potenciacao)"
      ]
    },
    {
      "cell_type": "code",
      "source": [
        "tempo_gasto = int(input(\"Digite o tempo gasto na viagem em horas: \"))\n",
        "velocidade_media = int(input(\"Digite a velocidade média em km/h: \"))\n",
        "distancia = tempo_gasto * velocidade_media\n",
        "litros_gasto = distancia / 12\n",
        "print(\"A quantidade de litros de combustível gasto na viagem é:\", litros_gasto)"
      ],
      "metadata": {
        "id": "pgFFSlHKYZ0M"
      },
      "execution_count": null,
      "outputs": []
    },
    {
      "cell_type": "code",
      "source": [
        "idade = int(input(\"Digite sua idade: \"))\n",
        "\n",
        "if idade < 0:\n",
        "    print(\"Idade inválida\")\n",
        "elif idade <= 12:\n",
        "    print(\"Criança\")\n",
        "elif idade <= 17:\n",
        "    print(\"Adolescente\")\n",
        "else:\n",
        "    print(\"Adulto\")"
      ],
      "metadata": {
        "id": "6VFIkk7LYbyS"
      },
      "execution_count": null,
      "outputs": []
    },
    {
      "cell_type": "code",
      "source": [
        "nota1 = float(input('Digite a primeira nota: '))\n",
        "nota2 = float(input('Digite a segunda nota: '))\n",
        "nota3 = float(input('Digite a terceira nota: '))\n",
        "media = (nota1 + nota2 + nota3) / 3\n",
        "if media < 4:\n",
        "    print('Reprovado')\n",
        "elif media >= 4 and media < 6:\n",
        "    print('Exame')\n",
        "else:\n",
        "    print('Aprovado')"
      ],
      "metadata": {
        "id": "OZ8UZO9TYeUh"
      },
      "execution_count": null,
      "outputs": []
    }
  ]
}